{
 "cells": [
  {
   "cell_type": "code",
   "execution_count": 11,
   "metadata": {
    "collapsed": true
   },
   "outputs": [],
   "source": [
    "import requests"
   ]
  },
  {
   "cell_type": "code",
   "execution_count": 12,
   "metadata": {},
   "outputs": [
    {
     "name": "stdout",
     "output_type": "stream",
     "text": [
      "<Response [200]>\n"
     ]
    }
   ],
   "source": [
    "data = requests.get(\"http://api.open-notify.org/astros.json\")\n",
    "print(data)"
   ]
  },
  {
   "cell_type": "code",
   "execution_count": 13,
   "metadata": {},
   "outputs": [
    {
     "data": {
      "text/plain": [
       "{'message': 'success',\n",
       " 'number': 10,\n",
       " 'people': [{'craft': 'ISS', 'name': 'Oleg Artemyev'},\n",
       "  {'craft': 'ISS', 'name': 'Denis Matveev'},\n",
       "  {'craft': 'ISS', 'name': 'Sergey Korsakov'},\n",
       "  {'craft': 'ISS', 'name': 'Kjell Lindgren'},\n",
       "  {'craft': 'ISS', 'name': 'Bob Hines'},\n",
       "  {'craft': 'ISS', 'name': 'Samantha Cristoforetti'},\n",
       "  {'craft': 'ISS', 'name': 'Jessica Watkins'},\n",
       "  {'craft': 'Tiangong', 'name': 'Cai Xuzhe'},\n",
       "  {'craft': 'Tiangong', 'name': 'Chen Dong'},\n",
       "  {'craft': 'Tiangong', 'name': 'Liu Yang'}]}"
      ]
     },
     "execution_count": 13,
     "metadata": {},
     "output_type": "execute_result"
    }
   ],
   "source": [
    "data = data.json()\n",
    "data"
   ]
  },
  {
   "cell_type": "code",
   "execution_count": 14,
   "metadata": {},
   "outputs": [
    {
     "data": {
      "text/plain": [
       "'Oleg Artemyev'"
      ]
     },
     "execution_count": 14,
     "metadata": {},
     "output_type": "execute_result"
    }
   ],
   "source": [
    "data['people'][0]['name']"
   ]
  },
  {
   "cell_type": "code",
   "execution_count": 15,
   "metadata": {},
   "outputs": [
    {
     "name": "stdout",
     "output_type": "stream",
     "text": [
      "Oleg Artemyev\n",
      "Denis Matveev\n",
      "Sergey Korsakov\n",
      "Kjell Lindgren\n",
      "Bob Hines\n",
      "Samantha Cristoforetti\n",
      "Jessica Watkins\n",
      "Cai Xuzhe\n",
      "Chen Dong\n",
      "Liu Yang\n"
     ]
    }
   ],
   "source": [
    "for p in data['people']:\n",
    "    print(p['name'])"
   ]
  },
  {
   "cell_type": "code",
   "execution_count": null,
   "metadata": {
    "collapsed": true
   },
   "outputs": [],
   "source": []
  }
 ],
 "metadata": {
  "kernelspec": {
   "display_name": "Python 3",
   "language": "python",
   "name": "python3"
  },
  "language_info": {
   "codemirror_mode": {
    "name": "ipython",
    "version": 3
   },
   "file_extension": ".py",
   "mimetype": "text/x-python",
   "name": "python",
   "nbconvert_exporter": "python",
   "pygments_lexer": "ipython3",
   "version": "3.6.10"
  }
 },
 "nbformat": 4,
 "nbformat_minor": 2
}
