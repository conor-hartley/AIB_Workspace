{
 "cells": [
  {
   "cell_type": "code",
   "execution_count": 10,
   "metadata": {
    "collapsed": true
   },
   "outputs": [],
   "source": [
    "class Car:\n",
    "    \n",
    "    \n",
    "    def drive(self):\n",
    "        print(\"Driving\")\n",
    "    def brake(self):\n",
    "        print(\"brake\")\n",
    "    def horn(self):\n",
    "        print(\"horn\")"
   ]
  },
  {
   "cell_type": "code",
   "execution_count": 11,
   "metadata": {},
   "outputs": [
    {
     "name": "stdout",
     "output_type": "stream",
     "text": [
      "Driving\n",
      "brake\n",
      "horn\n"
     ]
    }
   ],
   "source": [
    "bmw = Car()\n",
    "bmw.drive()\n",
    "bmw.brake()\n",
    "bmw.horn()"
   ]
  },
  {
   "cell_type": "code",
   "execution_count": 14,
   "metadata": {
    "collapsed": true
   },
   "outputs": [],
   "source": [
    "class Car:\n",
    "    \n",
    "    \n",
    "    def drive(self,speed):\n",
    "        print(\"Driving at speed\", speed)\n",
    "    def brake(self):\n",
    "        print(\"brake\")\n",
    "    def horn(self):\n",
    "        print(\"horn\")"
   ]
  },
  {
   "cell_type": "code",
   "execution_count": 17,
   "metadata": {},
   "outputs": [
    {
     "name": "stdout",
     "output_type": "stream",
     "text": [
      "Driving at speed 50\n"
     ]
    }
   ],
   "source": [
    "bmw1 = Car()\n",
    "bmw1.drive(50)"
   ]
  },
  {
   "cell_type": "code",
   "execution_count": 20,
   "metadata": {
    "collapsed": true
   },
   "outputs": [],
   "source": [
    "class Car:\n",
    "    \n",
    "    def __init__(self,color,Type):\n",
    "        self.color = color\n",
    "        self.type = Type\n",
    "        print(\"Car initialized with Color:\", color, \"Type:\", Type)\n",
    "    \n",
    "    def drive(self,speed):\n",
    "        print(\"Driving at speed\", speed)\n",
    "    def brake(self):\n",
    "        print(\"brake car with color:\", self.color)\n",
    "    def horn(self):\n",
    "        print(\"horn\")"
   ]
  },
  {
   "cell_type": "code",
   "execution_count": 22,
   "metadata": {},
   "outputs": [
    {
     "name": "stdout",
     "output_type": "stream",
     "text": [
      "Car initialized with Color: Black Type: Sedan\n",
      "brake car with color: Black\n"
     ]
    }
   ],
   "source": [
    "bmw=Car('Black', 'Sedan')\n",
    "bmw.brake()"
   ]
  },
  {
   "cell_type": "code",
   "execution_count": 29,
   "metadata": {
    "collapsed": true
   },
   "outputs": [],
   "source": [
    "class Calculator:\n",
    "    \n",
    "    def __init__(self, a,b):\n",
    "        self.a=a\n",
    "        self.b=b\n",
    "    def add(self):\n",
    "        return self.a + self.b\n",
    "    def __add__(self,other):\n",
    "        return self.a +other.a+self.b+other.b"
   ]
  },
  {
   "cell_type": "code",
   "execution_count": 30,
   "metadata": {},
   "outputs": [
    {
     "data": {
      "text/plain": [
       "9"
      ]
     },
     "execution_count": 30,
     "metadata": {},
     "output_type": "execute_result"
    }
   ],
   "source": [
    "c1 = Calculator(4,5)\n",
    "c1.add()"
   ]
  },
  {
   "cell_type": "code",
   "execution_count": 31,
   "metadata": {},
   "outputs": [
    {
     "data": {
      "text/plain": [
       "6"
      ]
     },
     "execution_count": 31,
     "metadata": {},
     "output_type": "execute_result"
    }
   ],
   "source": [
    "c2 = Calculator(3,3)\n",
    "c2.add()"
   ]
  },
  {
   "cell_type": "code",
   "execution_count": 32,
   "metadata": {},
   "outputs": [
    {
     "data": {
      "text/plain": [
       "15"
      ]
     },
     "execution_count": 32,
     "metadata": {},
     "output_type": "execute_result"
    }
   ],
   "source": [
    "c1+c2"
   ]
  },
  {
   "cell_type": "code",
   "execution_count": null,
   "metadata": {
    "collapsed": true
   },
   "outputs": [],
   "source": []
  }
 ],
 "metadata": {
  "kernelspec": {
   "display_name": "Python 3",
   "language": "python",
   "name": "python3"
  },
  "language_info": {
   "codemirror_mode": {
    "name": "ipython",
    "version": 3
   },
   "file_extension": ".py",
   "mimetype": "text/x-python",
   "name": "python",
   "nbconvert_exporter": "python",
   "pygments_lexer": "ipython3",
   "version": "3.6.10"
  }
 },
 "nbformat": 4,
 "nbformat_minor": 2
}
