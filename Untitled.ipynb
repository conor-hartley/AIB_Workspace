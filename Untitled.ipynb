{
 "cells": [
  {
   "cell_type": "code",
   "execution_count": 2,
   "metadata": {},
   "outputs": [
    {
     "name": "stdout",
     "output_type": "stream",
     "text": [
      "outside\n"
     ]
    }
   ],
   "source": [
    "if False:\n",
    "    print(\"Inside\")\n",
    "print(\"outside\")"
   ]
  },
  {
   "cell_type": "code",
   "execution_count": 9,
   "metadata": {},
   "outputs": [
    {
     "name": "stdout",
     "output_type": "stream",
     "text": [
      "Enter an age41\n",
      "You\"re welcome Area A\n",
      "You are eligible for buy 1 get 1\n",
      "Outside\n"
     ]
    }
   ],
   "source": [
    "age = float(input('Enter an age'))\n",
    "\n",
    "if age >= 18:\n",
    "    print(\"You're welcome Area A\")\n",
    "\n",
    "    \n",
    "if age >40:\n",
    "    print('You are eligible for buy 1 get 1')\n",
    "else:\n",
    "    print('Please go home')\n",
    "    \n",
    "print('Outside')"
   ]
  },
  {
   "cell_type": "code",
   "execution_count": null,
   "metadata": {
    "collapsed": true
   },
   "outputs": [],
   "source": []
  },
  {
   "cell_type": "code",
   "execution_count": null,
   "metadata": {
    "collapsed": true
   },
   "outputs": [],
   "source": [
    "# 3 things needed for loop\n",
    "1) Start\n",
    "2) Condition end \n",
    "3) Increment/decrement\n"
   ]
  },
  {
   "cell_type": "code",
   "execution_count": 12,
   "metadata": {},
   "outputs": [
    {
     "name": "stdout",
     "output_type": "stream",
     "text": [
      "1\n",
      "2\n",
      "3\n",
      "4\n",
      "5\n",
      "Outside loop\n"
     ]
    }
   ],
   "source": [
    "i = 1\n",
    "while (i<=10):\n",
    "    print(i)\n",
    "    if (i==5):\n",
    "        break\n",
    "    i=i+1\n",
    "\n",
    "print(\"Outside loop\")\n",
    "    "
   ]
  },
  {
   "cell_type": "code",
   "execution_count": 15,
   "metadata": {},
   "outputs": [
    {
     "name": "stdout",
     "output_type": "stream",
     "text": [
      "1\n",
      "2\n",
      "3\n",
      "4\n",
      "5\n",
      "Outside\n"
     ]
    }
   ],
   "source": [
    "a = [1,2,3,4,5]\n",
    "\n",
    "for i in a:\n",
    "    print(i)\n",
    "    \n",
    "print('Outside')"
   ]
  },
  {
   "cell_type": "code",
   "execution_count": 17,
   "metadata": {},
   "outputs": [
    {
     "name": "stdout",
     "output_type": "stream",
     "text": [
      "Enter your age: conor\n",
      "Sorry that is not a number, try again\n",
      "Enter your age: gf\n",
      "Sorry that is not a number, try again\n",
      "Enter your age: ;\n",
      "Sorry that is not a number, try again\n",
      "Enter your age: '\n",
      "Sorry that is not a number, try again\n",
      "Enter your age: 1\n"
     ]
    }
   ],
   "source": [
    "askAgain = True\n",
    "while askAgain == True:\n",
    "    age = input(\"Enter your age: \")\n",
    "    try:\n",
    "        age = int(age)\n",
    "        askAgain = False\n",
    "    except:\n",
    "        print(\"Sorry that is not a number, try again\")"
   ]
  },
  {
   "cell_type": "code",
   "execution_count": 18,
   "metadata": {},
   "outputs": [
    {
     "name": "stdout",
     "output_type": "stream",
     "text": [
      "Enter your age: 4\n"
     ]
    }
   ],
   "source": [
    "askAgain = True\n",
    "while askAgain == True:\n",
    "    age = input(\"Enter your age: \")\n",
    "    try:\n",
    "        age = int(age)\n",
    "        askAgain = False\n",
    "    except:\n",
    "        print(\"Sorry that is not a number, try again\")"
   ]
  },
  {
   "cell_type": "code",
   "execution_count": 21,
   "metadata": {},
   "outputs": [
    {
     "ename": "SyntaxError",
     "evalue": "invalid syntax (<ipython-input-21-95ca63290db4>, line 3)",
     "output_type": "error",
     "traceback": [
      "\u001b[0;36m  File \u001b[0;32m\"<ipython-input-21-95ca63290db4>\"\u001b[0;36m, line \u001b[0;32m3\u001b[0m\n\u001b[0;31m    print(X is less than 10)\u001b[0m\n\u001b[0m                       ^\u001b[0m\n\u001b[0;31mSyntaxError\u001b[0m\u001b[0;31m:\u001b[0m invalid syntax\n"
     ]
    }
   ],
   "source": [
    "x = 5\n",
    "if x < 10:\n",
    "    print(X is less than 10)\n",
    "if x < 8:\n",
    "    print(X is less than 8)\n",
    "print(“Done”)"
   ]
  },
  {
   "cell_type": "code",
   "execution_count": 24,
   "metadata": {},
   "outputs": [
    {
     "name": "stdout",
     "output_type": "stream",
     "text": [
      "Lame \n"
     ]
    }
   ],
   "source": [
    "x = 4\n",
    "if x % 2 == 0:\n",
    "    if x % 3 == 0:\n",
    "        print('Cool Number')\n",
    "    else:\n",
    "        print('Lame ')\n",
    "else:\n",
    "    print('Weak')"
   ]
  },
  {
   "cell_type": "code",
   "execution_count": null,
   "metadata": {
    "collapsed": true
   },
   "outputs": [],
   "source": []
  }
 ],
 "metadata": {
  "kernelspec": {
   "display_name": "Python 3",
   "language": "python",
   "name": "python3"
  },
  "language_info": {
   "codemirror_mode": {
    "name": "ipython",
    "version": 3
   },
   "file_extension": ".py",
   "mimetype": "text/x-python",
   "name": "python",
   "nbconvert_exporter": "python",
   "pygments_lexer": "ipython3",
   "version": "3.6.10"
  }
 },
 "nbformat": 4,
 "nbformat_minor": 2
}
